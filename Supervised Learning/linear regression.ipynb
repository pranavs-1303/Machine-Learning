{
 "cells": [
  {
   "cell_type": "markdown",
   "id": "10763b3d",
   "metadata": {},
   "source": [
    "# *Importing the libraries*"
   ]
  },
  {
   "cell_type": "code",
   "execution_count": 1,
   "id": "1073b284",
   "metadata": {},
   "outputs": [],
   "source": [
    "import pandas as pd\n",
    "import matplotlib.pyplot as plt\n",
    "import seaborn as sns\n",
    "\n",
    "from sklearn.linear_model import LinearRegression\n",
    "from sklearn.model_selection import train_test_split\n",
    "from sklearn.metrics import mean_squared_error, r2_score"
   ]
  },
  {
   "cell_type": "markdown",
   "id": "6d595057",
   "metadata": {},
   "source": [
    "# *Loading the data*"
   ]
  },
  {
   "cell_type": "code",
   "execution_count": null,
   "id": "0422c265",
   "metadata": {},
   "outputs": [],
   "source": [
    "df = pd.read_csv(\"E:\\Programming\\Python for Data Science and Machine Learning\\Datasets\\salary_dataset.csv\")\n",
    "df = df.iloc[0:,1:]\n",
    "df.rename(columns={'YearsExperience' : 'Experience', 'Salary' : 'Salary'}, inplace = True)\n",
    "df.head()"
   ]
  },
  {
   "cell_type": "markdown",
   "id": "a818a889",
   "metadata": {},
   "source": [
    "# *Data Visualization*"
   ]
  },
  {
   "cell_type": "code",
   "execution_count": null,
   "id": "f00d8a3c",
   "metadata": {},
   "outputs": [],
   "source": [
    "# Creating a 1 x 2 canvas for scatterplot and heatmap \n",
    "fig, axes = plt.subplots(1, 2, figsize=(14, 6))\n",
    "\n",
    "# Determining the relatioship between independent and dependent variable by plotting a scatterplot\n",
    "sns.scatterplot(data = df, x = 'Experience', y = 'Salary', ax = axes[0])\n",
    "axes[0].set_title(\"Experience vs Salary plot\")\n",
    "\n",
    "# Plotting the heatmap\n",
    "sns.heatmap(data = df.corr(), annot = True, cmap = 'coolwarm' )\n",
    "axes[1].set_title(\"Correlation Matrix\")\n",
    "'''\n",
    "From the correlation matrix, we understand that the correlation between the independent variable : \"Experience\" and the dependent variable : \"Salary\" have a strong correlation of 0.98, hence we can predict the salary using the input feature experince by designing the model based on Linear Regression\n",
    "'''"
   ]
  },
  {
   "cell_type": "markdown",
   "id": "0b3a9a81",
   "metadata": {},
   "source": [
    "# *Selecting and training the model*"
   ]
  },
  {
   "cell_type": "code",
   "execution_count": null,
   "id": "75707698",
   "metadata": {},
   "outputs": [],
   "source": [
    "x = df[['Experience']]\n",
    "y = df['Salary']\n",
    "x_train, x_test, y_train, y_test = train_test_split(x, y, test_size = 0.2)\n",
    "\n",
    "model = LinearRegression()\n",
    "model.fit(x_train, y_train)\n",
    "\n",
    "slope = model.coef_[0]\n",
    "intercept = model.intercept_\n",
    "print(f\"Model: Salary = {slope:.2f} * Experience + {intercept:.2f}\")"
   ]
  },
  {
   "cell_type": "markdown",
   "id": "7353bf28",
   "metadata": {},
   "source": [
    "# *Prediction and Evaluation*"
   ]
  },
  {
   "cell_type": "code",
   "execution_count": null,
   "id": "84cf9943",
   "metadata": {},
   "outputs": [],
   "source": [
    "y_pred = model.predict(x_test)\n",
    "\n",
    "mse = mean_squared_error(y_test, y_pred)\n",
    "r2 =r2_score(y_test, y_pred)\n",
    "print(f\"\\nMean Squared Error (MSE): {mse:.2f}\")\n",
    "print(f\"R² Score: {r2:.2f}\")\n",
    "\n",
    "plt.figure(figsize=(6, 4))\n",
    "sns.scatterplot(x = df['Experience'], y = df['Salary'], label='Actual')\n",
    "plt.plot(x_test, y_pred, color ='red', label ='Regression Line')\n",
    "plt.xlabel(\"Years of Experience\")\n",
    "plt.ylabel(\"Salary\")\n",
    "plt.title(\"Prediction vs Actual\")\n",
    "plt.legend()\n",
    "plt.show()"
   ]
  }
 ],
 "metadata": {
  "kernelspec": {
   "display_name": "Python 3",
   "language": "python",
   "name": "python3"
  },
  "language_info": {
   "codemirror_mode": {
    "name": "ipython",
    "version": 3
   },
   "file_extension": ".py",
   "mimetype": "text/x-python",
   "name": "python",
   "nbconvert_exporter": "python",
   "pygments_lexer": "ipython3",
   "version": "3.10.10"
  }
 },
 "nbformat": 4,
 "nbformat_minor": 5
}
