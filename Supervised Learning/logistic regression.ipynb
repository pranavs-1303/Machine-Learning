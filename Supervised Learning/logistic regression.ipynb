{
 "cells": [
  {
   "cell_type": "markdown",
   "id": "6ff4ea77",
   "metadata": {},
   "source": [
    "# *Importing the libraries*"
   ]
  },
  {
   "cell_type": "code",
   "execution_count": 11,
   "id": "cfb22c3b",
   "metadata": {},
   "outputs": [],
   "source": [
    "import numpy as np\n",
    "import pandas as pd\n",
    "import matplotlib.pyplot as plt\n",
    "import seaborn as sns\n",
    "\n",
    "from sklearn.datasets import load_iris\n",
    "from sklearn.model_selection import train_test_split\n",
    "from sklearn.linear_model import LogisticRegression\n",
    "from sklearn.preprocessing import StandardScaler\n",
    "from sklearn.metrics import accuracy_score, confusion_matrix, classification_report"
   ]
  },
  {
   "cell_type": "markdown",
   "id": "c78ca505",
   "metadata": {},
   "source": [
    "# *Loading the data*"
   ]
  },
  {
   "cell_type": "code",
   "execution_count": null,
   "id": "a4c61681",
   "metadata": {},
   "outputs": [],
   "source": [
    "iris = load_iris()\n",
    "df = pd.DataFrame(data = iris.data,  columns = iris.feature_names)\n",
    "# since this is going to be a binary classification model which distinguishes setosa fro other flower classes, we filter it out\n",
    "\n",
    "df['target'] = (iris.target == 0).astype(int)\n",
    "df['class_name'] = df['target'].map({0 : 'other', 1 : 'setosa'})\n",
    "df"
   ]
  },
  {
   "cell_type": "markdown",
   "id": "7969139a",
   "metadata": {},
   "source": [
    "# *Data Visualization*"
   ]
  },
  {
   "cell_type": "code",
   "execution_count": null,
   "id": "b0b61283",
   "metadata": {},
   "outputs": [],
   "source": [
    "fig, axes = plt.subplots(2,2, figsize = (8,6))\n",
    "axes = axes.flatten()\n",
    "column = df.columns\n",
    "for num in range(4):\n",
    "    sns.histplot(df[column[num]], ax = axes[num])    \n",
    "plt.show()"
   ]
  },
  {
   "cell_type": "code",
   "execution_count": null,
   "id": "6d8cdcf9",
   "metadata": {},
   "outputs": [],
   "source": [
    "df_modified = df.drop(columns = {'class_name'})\n",
    "sns.pairplot(df_modified, hue = 'target')\n",
    "plt.show()\n",
    "df_modified = df_modified.drop('class_name', axis = 1)"
   ]
  },
  {
   "cell_type": "markdown",
   "id": "83b7c2aa",
   "metadata": {},
   "source": [
    "*With the above pairplot, we can clearly see that the features for setosa differ from other flowers*"
   ]
  },
  {
   "cell_type": "code",
   "execution_count": null,
   "id": "d9b0e3dc",
   "metadata": {},
   "outputs": [],
   "source": [
    "sns.heatmap(df_modified.corr(), cmap = 'coolwarm', annot = True)\n",
    "plt.show()"
   ]
  },
  {
   "cell_type": "markdown",
   "id": "4d48dfbf",
   "metadata": {},
   "source": [
    "# *Data Preprocessing*"
   ]
  },
  {
   "cell_type": "code",
   "execution_count": 16,
   "id": "625c8b35",
   "metadata": {},
   "outputs": [],
   "source": [
    "# Separating the features and target variables as X and Y respetively\n",
    "x = df.drop(columns = ['target', 'class_name'])\n",
    "y = df['target']\n",
    "\n",
    "# scaling process\n",
    "scaler = StandardScaler()\n",
    "x_transformed = pd.DataFrame(scaler.fit_transform(x), columns = x.columns)\n",
    "\n",
    "x_train, x_test, y_train, y_test = train_test_split(x_transformed, y, test_size = 0.2)"
   ]
  },
  {
   "cell_type": "markdown",
   "id": "7a0ede4d",
   "metadata": {},
   "source": [
    "# *Building the model*"
   ]
  },
  {
   "cell_type": "code",
   "execution_count": 17,
   "id": "14410099",
   "metadata": {},
   "outputs": [],
   "source": [
    "model = LogisticRegression()\n",
    "model.fit(x_train, y_train)\n",
    "y_pred = model.predict(x_test)"
   ]
  },
  {
   "cell_type": "markdown",
   "id": "5414540c",
   "metadata": {},
   "source": [
    "# *Evaluation*"
   ]
  },
  {
   "cell_type": "code",
   "execution_count": null,
   "id": "ec98ee03",
   "metadata": {},
   "outputs": [],
   "source": [
    "acc_score = accuracy_score(y_test, y_pred)\n",
    "conf_matrix = confusion_matrix(y_test, y_pred)\n",
    "report = classification_report(y_test, y_pred, target_names = ['Not Setosa', 'Setosa'])\n",
    "print(f\"The accuracy score of the model is {acc_score:.02f}\")\n",
    "print(f\"Confusion Matrix : {conf_matrix}\")\n",
    "print(f\"Classification Report : {report}\")"
   ]
  }
 ],
 "metadata": {
  "kernelspec": {
   "display_name": "Python 3",
   "language": "python",
   "name": "python3"
  },
  "language_info": {
   "codemirror_mode": {
    "name": "ipython",
    "version": 3
   },
   "file_extension": ".py",
   "mimetype": "text/x-python",
   "name": "python",
   "nbconvert_exporter": "python",
   "pygments_lexer": "ipython3",
   "version": "3.10.10"
  }
 },
 "nbformat": 4,
 "nbformat_minor": 5
}
