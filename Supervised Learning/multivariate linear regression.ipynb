{
 "cells": [
  {
   "cell_type": "markdown",
   "id": "f5b68fb6",
   "metadata": {},
   "source": [
    "# *Importing the libraries*"
   ]
  },
  {
   "cell_type": "code",
   "execution_count": 2,
   "id": "fdeddd55",
   "metadata": {},
   "outputs": [],
   "source": [
    "import pandas as pd\n",
    "from pandas import DataFrame, Series\n",
    "import matplotlib.pyplot as plt\n",
    "import seaborn as sns\n",
    "\n",
    "from sklearn.linear_model import LinearRegression\n",
    "from sklearn.model_selection import train_test_split\n",
    "from sklearn.metrics import mean_squared_error, r2_score"
   ]
  },
  {
   "cell_type": "markdown",
   "id": "d456eb80",
   "metadata": {},
   "source": [
    "# *Loading the data*"
   ]
  },
  {
   "cell_type": "code",
   "execution_count": null,
   "id": "02ef362c",
   "metadata": {},
   "outputs": [],
   "source": [
    "df = pd.read_csv(\"E:\\Programming\\Python for Data Science and Machine Learning\\Datasets\\california_housing_dataset.csv\")\n",
    "df = df.drop(columns = {'ocean_proximity', 'housing_median_age', 'latitude', 'longitude'})\n",
    "df = df.iloc[:500,:]\n",
    "df.head()"
   ]
  },
  {
   "cell_type": "markdown",
   "id": "3109e275",
   "metadata": {},
   "source": [
    "# *Data Visualization*"
   ]
  },
  {
   "cell_type": "code",
   "execution_count": null,
   "id": "559b5236",
   "metadata": {},
   "outputs": [],
   "source": [
    "sns.pairplot(data = df)\n",
    "plt.show()"
   ]
  },
  {
   "cell_type": "code",
   "execution_count": null,
   "id": "b82e2f0f",
   "metadata": {},
   "outputs": [],
   "source": [
    "figure, axes = plt.subplots(2, 3, figsize = (14,6))\n",
    "axes = axes.flatten()\n",
    "column = ['total_rooms', 'total_bedrooms', 'households', 'population', 'median_income', 'median_house_value']\n",
    "for num in range(6):\n",
    "    sns.histplot(df[column[num]], ax = axes[num])    \n",
    "plt.show()"
   ]
  },
  {
   "cell_type": "markdown",
   "id": "404186b4",
   "metadata": {},
   "source": [
    "# *Exploratory Data Analysis*"
   ]
  },
  {
   "cell_type": "code",
   "execution_count": 69,
   "id": "30293fb9",
   "metadata": {},
   "outputs": [],
   "source": [
    "# Since the data consists outliers which might negatively impact our linear regression model, we replace the outlier values with the median value, removing the bias present in the data eventually. The histograms and pairplots above indicate the presence of outliers.\n",
    "\n",
    "def correction(df, column_arr):\n",
    "    data = df.copy()\n",
    "    for col in column_arr:\n",
    "        Q1 = data[col].quantile(0.25)\n",
    "        Q3 = data[col].quantile(0.75)\n",
    "        inter_quartile_range = Q3 - Q1\n",
    "        lower_bound = Q1 - (1.5 * inter_quartile_range)\n",
    "        upper_bound = Q3 + (1.5 * inter_quartile_range)\n",
    "        median = data[col].median()\n",
    "        data[col] = data[col].apply(lambda val : median if ((val < lower_bound) or (val > upper_bound)) else val)\n",
    "    return data\n",
    "\n",
    "arr = ['total_rooms', 'total_bedrooms', 'households', 'population', 'median_income', 'median_house_value']\n",
    "cleaned_data = correction(df, arr)"
   ]
  },
  {
   "cell_type": "markdown",
   "id": "1226d67d",
   "metadata": {},
   "source": [
    "# *Plotting boxplots to verify that the data has been treated so that the influence of outliers has been reduced/removed*"
   ]
  },
  {
   "cell_type": "code",
   "execution_count": null,
   "id": "31008355",
   "metadata": {},
   "outputs": [],
   "source": [
    "figure, axes = plt.subplots(2, 3, figsize = (15,6))\n",
    "axes = axes.flatten()\n",
    "column = ['total_rooms', 'total_bedrooms', 'households', 'population', 'median_income', 'median_house_value']\n",
    "for num in range(6):\n",
    "    sns.boxplot(data = cleaned_data, y = column[num], ax = axes[num])\n",
    "plt.show()"
   ]
  },
  {
   "cell_type": "code",
   "execution_count": null,
   "id": "0d748992",
   "metadata": {},
   "outputs": [],
   "source": [
    "sns.heatmap(data = cleaned_data.corr(), cmap = 'coolwarm', annot = True)\n",
    "plt.show()"
   ]
  },
  {
   "cell_type": "markdown",
   "id": "2f863f78",
   "metadata": {},
   "source": [
    "*In the above heatmap, we can see that features like total_rooms, total_bedrooms, population, households have strong correlation among each others, hence we can use to predict their values.*"
   ]
  },
  {
   "cell_type": "markdown",
   "id": "7755cf00",
   "metadata": {},
   "source": [
    "# *Building the model for predicting the 'total_rooms' feature*"
   ]
  },
  {
   "cell_type": "code",
   "execution_count": null,
   "id": "fca8ef49",
   "metadata": {},
   "outputs": [],
   "source": [
    "cleaned_data = cleaned_data.fillna(cleaned_data.median())\n",
    "X = cleaned_data[['households', 'population', 'total_bedrooms']]\n",
    "Y = cleaned_data['total_rooms']\n",
    "X_train, X_test, Y_train, Y_test = train_test_split(X, Y, test_size = 0.2)\n",
    "model = LinearRegression()\n",
    "model.fit(X_train, Y_train)\n",
    "slope = model.coef_[0]\n",
    "intercept = model.intercept_\n",
    "print(f'The regression line was found to be Y = {slope:.2f} * X + {intercept:.2f}')\n",
    "Y_pred = model.predict(X_test)\n",
    "mse = mean_squared_error(Y_test, Y_pred)\n",
    "r_square = r2_score(Y_test, Y_pred)\n",
    "print(f'Mean Squared Error was found to be :  {mse:.2f}\\nR² score was found to be : {r_square:.2f}')"
   ]
  },
  {
   "cell_type": "markdown",
   "id": "e1f66d09",
   "metadata": {},
   "source": [
    "# *Building the model for predicting the 'total_bedrooms' feature*"
   ]
  },
  {
   "cell_type": "code",
   "execution_count": null,
   "id": "5cf92ee9",
   "metadata": {},
   "outputs": [],
   "source": [
    "X = cleaned_data[['households', 'population', 'total_rooms']]\n",
    "Y = cleaned_data['total_bedrooms']\n",
    "X_train, X_test, Y_train, Y_test = train_test_split(X, Y, test_size = 0.2)\n",
    "model = LinearRegression()\n",
    "model.fit(X_train, Y_train)\n",
    "slope = model.coef_[0]\n",
    "intercept = model.intercept_\n",
    "print(f'The regression line was found to be Y = {slope:.2f} * X + {intercept:.2f}')\n",
    "Y_pred = model.predict(X_test)\n",
    "mse = mean_squared_error(Y_test, Y_pred)\n",
    "r_square = r2_score(Y_test, Y_pred)\n",
    "print(f'Mean Squared Error was found to be :  {mse:.2f}\\nR² score was found to be : {r_square:.2f}')"
   ]
  },
  {
   "cell_type": "markdown",
   "id": "70971666",
   "metadata": {},
   "source": [
    "# *Building the model for predicting the 'households' feature*"
   ]
  },
  {
   "cell_type": "code",
   "execution_count": null,
   "id": "831dccbc",
   "metadata": {},
   "outputs": [],
   "source": [
    "X = cleaned_data[['total_bedrooms', 'population', 'total_rooms']]\n",
    "Y = cleaned_data['households']\n",
    "X_train, X_test, Y_train, Y_test = train_test_split(X, Y, test_size = 0.2)\n",
    "model = LinearRegression()\n",
    "model.fit(X_train, Y_train)\n",
    "slope = model.coef_[0]\n",
    "intercept = model.intercept_\n",
    "print(f'The regression line was found to be Y = {slope:.2f} * X + {intercept:.2f}')\n",
    "Y_pred = model.predict(X_test)\n",
    "mse = mean_squared_error(Y_test, Y_pred)\n",
    "r_square = r2_score(Y_test, Y_pred)\n",
    "print(f'Mean Squared Error was found to be :  {mse:.2f}\\nR² score was found to be : {r_square:.2f}')"
   ]
  },
  {
   "cell_type": "markdown",
   "id": "a9263e11",
   "metadata": {},
   "source": [
    "# *Building the model for predicting the 'households' feature*"
   ]
  },
  {
   "cell_type": "code",
   "execution_count": null,
   "id": "03ec5b41",
   "metadata": {},
   "outputs": [],
   "source": [
    "X = cleaned_data[['total_bedrooms', 'households', 'total_rooms']]\n",
    "Y = cleaned_data['population']\n",
    "X_train, X_test, Y_train, Y_test = train_test_split(X, Y, test_size = 0.2)\n",
    "model = LinearRegression()\n",
    "model.fit(X_train, Y_train)\n",
    "slope = model.coef_[0]\n",
    "intercept = model.intercept_\n",
    "print(f'The regression line was found to be Y = {slope:.2f} * X + {intercept:.2f}')\n",
    "Y_pred = model.predict(X_test)\n",
    "mse = mean_squared_error(Y_test, Y_pred)\n",
    "r_square = r2_score(Y_test, Y_pred)\n",
    "print(f'Mean Squared Error was found to be :  {mse:.2f}\\nR² score was found to be : {r_square:.2f}')"
   ]
  }
 ],
 "metadata": {
  "kernelspec": {
   "display_name": "Python 3",
   "language": "python",
   "name": "python3"
  },
  "language_info": {
   "codemirror_mode": {
    "name": "ipython",
    "version": 3
   },
   "file_extension": ".py",
   "mimetype": "text/x-python",
   "name": "python",
   "nbconvert_exporter": "python",
   "pygments_lexer": "ipython3",
   "version": "3.10.10"
  }
 },
 "nbformat": 4,
 "nbformat_minor": 5
}
