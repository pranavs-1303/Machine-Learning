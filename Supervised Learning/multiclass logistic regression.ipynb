{
 "cells": [
  {
   "cell_type": "markdown",
   "id": "da810460",
   "metadata": {},
   "source": [
    "# *Importing the libraries*"
   ]
  },
  {
   "cell_type": "code",
   "execution_count": 1,
   "id": "328bfde7",
   "metadata": {},
   "outputs": [],
   "source": [
    "import pandas as pd\n",
    "import matplotlib.pyplot as plt\n",
    "import seaborn as sns\n",
    "\n",
    "from sklearn.datasets import load_iris\n",
    "from sklearn.linear_model import LogisticRegression\n",
    "from sklearn.metrics import accuracy_score, confusion_matrix, classification_report\n",
    "from sklearn.model_selection import train_test_split\n",
    "from sklearn.preprocessing import StandardScaler"
   ]
  },
  {
   "cell_type": "markdown",
   "id": "f91b73b5",
   "metadata": {},
   "source": [
    "# *Loading the data*"
   ]
  },
  {
   "cell_type": "code",
   "execution_count": null,
   "id": "2006d392",
   "metadata": {},
   "outputs": [],
   "source": [
    "iris = load_iris()\n",
    "df = pd.DataFrame(data = iris.data, columns = iris.feature_names)\n",
    "#print(iris.target_names) # 0 : setosa, 1 : versicolor, 2 : virginica\n",
    "df['target'] = iris.target\n",
    "df['class_name'] = df['target'].map({0 : 'setosa', 1 : 'versicolor', 2: 'virginica'})\n",
    "df"
   ]
  },
  {
   "cell_type": "markdown",
   "id": "6efe8aa1",
   "metadata": {},
   "source": [
    "# *Data Visualization*"
   ]
  },
  {
   "cell_type": "code",
   "execution_count": null,
   "id": "3f8c18d0",
   "metadata": {},
   "outputs": [],
   "source": [
    "df2 = df.drop('target', axis = 1)\n",
    "custom_palette = {'setosa' : 'orange', 'versicolor' : 'blue', 'virginica' : 'green'}\n",
    "sns.pairplot(df2, hue = 'class_name', palette = custom_palette)\n",
    "plt.show()"
   ]
  },
  {
   "cell_type": "code",
   "execution_count": null,
   "id": "2a1f5afe",
   "metadata": {},
   "outputs": [],
   "source": [
    "sns.heatmap(df2.corr(), cmap = 'coolwarm', annot = True)"
   ]
  },
  {
   "cell_type": "markdown",
   "id": "8edcdb9c",
   "metadata": {},
   "source": [
    "# *Standaradization and Model Training*"
   ]
  },
  {
   "cell_type": "code",
   "execution_count": null,
   "id": "fca4c03f",
   "metadata": {},
   "outputs": [],
   "source": [
    "X = df.drop(columns = ['target', 'class_name'])\n",
    "y = df['target']\n",
    "scaler = StandardScaler()\n",
    "x = scaler.fit_transform(X)\n",
    "x_train, x_test, y_train, y_test = train_test_split(x, y, test_size = 0.25)\n",
    "model = LogisticRegression(multi_class = 'multinomial', solver = 'lbfgs', max_iter = 1000)\n",
    "model.fit(x_train, y_train)\n",
    "y_pred = model.predict(x_test)"
   ]
  },
  {
   "cell_type": "markdown",
   "id": "33869e9d",
   "metadata": {},
   "source": [
    "# *Evaluation of the model*"
   ]
  },
  {
   "cell_type": "code",
   "execution_count": null,
   "id": "b80f16bc",
   "metadata": {},
   "outputs": [],
   "source": [
    "acc_score = accuracy_score(y_test, y_pred)\n",
    "conf_matrix = confusion_matrix(y_test, y_pred)\n",
    "report = classification_report(y_test, y_pred, target_names = ['Setosa', 'Versicolor', 'Virginica'])\n",
    "print(f\"Accuracy score of the model : {acc_score:.02f}\")\n",
    "print(f\"\\nConfusion Matrix : \\n{conf_matrix}\")\n",
    "print(f\"\\nClassification Report :\\n{report}\")"
   ]
  },
  {
   "cell_type": "code",
   "execution_count": 29,
   "id": "03de7884",
   "metadata": {},
   "outputs": [
    {
     "data": {
      "image/png": "[encoded data removed]",
      "text/plain": [
       "<Figure size 640x480 with 2 Axes>"
      ]
     },
     "metadata": {},
     "output_type": "display_data"
    }
   ],
   "source": [
    "sns.heatmap(conf_matrix, annot = True)\n",
    "plt.show()"
   ]
  }
 ],
 "metadata": {
  "kernelspec": {
   "display_name": "Python 3",
   "language": "python",
   "name": "python3"
  },
  "language_info": {
   "codemirror_mode": {
    "name": "ipython",
    "version": 3
   },
   "file_extension": ".py",
   "mimetype": "text/x-python",
   "name": "python",
   "nbconvert_exporter": "python",
   "pygments_lexer": "ipython3",
   "version": "3.10.10"
  }
 },
 "nbformat": 4,
 "nbformat_minor": 5
}
